{
 "cells": [
  {
   "cell_type": "markdown",
   "metadata": {},
   "source": [
    "# Subscriber\n",
    "**Run this for being a Subscriber**   \n",
    "Subscribe to **topic: \"CPE_HOUSE/room1\"**   \n",
    "\n",
    "Clients can subscribe to the exact topic of a published message or use wildcards to subscribe to multiple topics at the same time <br>\n",
    "A wildcard can only be used to subscribe to topics, not to publish a message\n"
   ]
  },
  {
   "cell_type": "markdown",
   "metadata": {},
   "source": [
    "Test publish from this site:\n",
    "https://www.hivemq.com/demos/websocket-client/\n",
    "\n",
    "and run code below for see the result"
   ]
  },
  {
   "cell_type": "code",
   "execution_count": 11,
   "metadata": {},
   "outputs": [
    {
     "name": "stdout",
     "output_type": "stream",
     "text": [
      "Requirement already satisfied: paho-mqtt in c:\\users\\tee\\appdata\\local\\packages\\pythonsoftwarefoundation.python.3.11_qbz5n2kfra8p0\\localcache\\local-packages\\python311\\site-packages (2.1.0)\n",
      "Note: you may need to restart the kernel to use updated packages.\n"
     ]
    },
    {
     "name": "stderr",
     "output_type": "stream",
     "text": [
      "\n",
      "[notice] A new release of pip is available: 24.0 -> 24.2\n",
      "[notice] To update, run: C:\\Users\\Tee\\AppData\\Local\\Microsoft\\WindowsApps\\PythonSoftwareFoundation.Python.3.11_qbz5n2kfra8p0\\python.exe -m pip install --upgrade pip\n"
     ]
    }
   ],
   "source": [
    "%pip install paho-mqtt\n",
    "import csv"
   ]
  },
  {
   "cell_type": "code",
   "execution_count": 14,
   "metadata": {},
   "outputs": [
    {
     "name": "stderr",
     "output_type": "stream",
     "text": [
      "C:\\Users\\Tee\\AppData\\Local\\Temp\\ipykernel_20552\\3653827993.py:44: DeprecationWarning: Callback API version 1 is deprecated, update to latest version\n",
      "  client = mqtt.Client()\n"
     ]
    },
    {
     "name": "stdout",
     "output_type": "stream",
     "text": [
      "MQTT Connected.\n",
      "message received...\n",
      "CPE_DEMO_HOUSE/ 0 {\"Temperature\": 32, \"Humidity\": 54, \"Light\": 102}\n",
      "message received...\n",
      "CPE_DEMO_HOUSE/room 0 {\"Temperature\": 32, \"Humidity\": 54, \"Light\": 102}\n",
      "message received...\n",
      "CPE_DEMO_HOUSE/12 0 {\"Temperature\": 32, \"Humidity\": 54, \"Light\": 102}\n",
      "message received...\n",
      "CPE_DEMO_HOUSE/BACKROOMS 0 FROM HERE\n",
      "message received...\n",
      "CPE_DEMO_HOUSE/room2 0 {\"Temperature\": 18, \"Humidity\": 30, \"Light\": 300}\n",
      "message received...\n",
      "CPE_DEMO_HOUSE/room1 0 {\"Temperature\": 35, \"Humidity\": 60, \"Light\": 138}\n",
      "message received...\n",
      "CPE_DEMO_HOUSE/r 0 {\"Temperature\": 32, \"Humidity\": 54, \"Light\": 102}\n",
      "message received...\n",
      "CPE_DEMO_HOUSE/FOREST 0 HELP ME\n",
      "message received...\n",
      "CPE_DEMO_HOUSE/room17 0 {\"Temperature\": 35, \"Humidity\": 60, \"Light\": 138}\n",
      "message received...\n",
      "CPE_DEMO_HOUSE/room19 0 {\"Temperature\": 32, \"Humidity\": 54, \"Light\": 102}\n",
      "message received...\n",
      "CPE_DEMO_HOUSE/room100 0 {\"Temperature\": 35, \"Humidity\": 60, \"Light\": 138}\n",
      "message received...\n",
      "CPE_DEMO_HOUSE/TEST 0 Muahahhaha\n",
      "message received...\n",
      "CPE_DEMO_HOUSE/roo 0 {\"Temperature\": 32, \"Humidity\": 54, \"Light\": 102}\n"
     ]
    },
    {
     "data": {
      "text/plain": [
       "<MQTTErrorCode.MQTT_ERR_SUCCESS: 0>"
      ]
     },
     "execution_count": 14,
     "metadata": {},
     "output_type": "execute_result"
    }
   ],
   "source": [
    "import paho.mqtt.client as mqtt\n",
    "\n",
    "MQTT_HOST = \"broker.mqttdashboard.com\"\n",
    "MQTT_PORT = 1883\n",
    "#MQTT_HOST = \"mqtt-dashboard.com\"\n",
    "#MQTT_PORT = 8884\n",
    "MQTT_KEEPALIVE_INTERVAL = 45 #45 seconds\n",
    "MQTT_TOPIC = \"CPE_DEMO_HOUSE/#\"\n",
    "CSV_FILE_NAME = \"receivedData.csv\"\n",
    "\n",
    "ROWS = [ \"Topic\" , 'Payload']\n",
    "with open(CSV_FILE_NAME, 'w', newline='') as csvfile:\n",
    "     writer = csv.writer(csvfile)\n",
    "     writer.writerows(ROWS)\n",
    "    \n",
    "def on_connect(self,client, userdata, rc):\n",
    "    print(\"MQTT Connected.\")\n",
    "    self.subscribe(MQTT_TOPIC)\n",
    "    # add more subscribe ...\n",
    "    # e.g.;\n",
    "    # self.subscribe(\"CPE_DEMO_HOUSE/room2/#\")\n",
    "\n",
    "def on_message(client, userdata, msg):\n",
    "    print(\"message received...\")\n",
    "    topic = msg.topic\n",
    "    payload = msg.payload.decode(\"utf-8\", \"strict\")\n",
    "    print(msg.topic + \" \"+ str(msg.qos) + \" \" + str(msg.payload.decode(\"utf-8\",\"strict\")))\n",
    "    \n",
    "    with open(CSV_FILE_NAME, 'a', newline='') as csvfile:\n",
    "        writer = csv.writer(csvfile)\n",
    "        writer.writerow([topic, payload])\n",
    "        \n",
    "client = mqtt.Client()\n",
    "client.on_connect = on_connect\n",
    "client.on_message = on_message\n",
    "client.connect(MQTT_HOST)\n",
    "client.loop_forever()"
   ]
  },
  {
   "cell_type": "code",
   "execution_count": null,
   "metadata": {},
   "outputs": [],
   "source": [
    "import paho.mqtt.client as mqtt\n",
    "import time\n",
    "\n",
    "MQTT_HOST = \"broker.mqttdashboard.com\"\n",
    "MQTT_PORT = 1883\n",
    "#MQTT_HOST = \"mqtt-dashboard.com\"\n",
    "#MQTT_PORT = 8884\n",
    "MQTT_KEEPALIVE_INTERVAL = 45 #45 seconds\n",
    "MQTT_TOPIC = \"CPE_DEMO_HOUSE/#\"\n",
    "CSV_FILE_NAME = \"receivedData.csv\"\n",
    "\n",
    "start_time = time.time()\n",
    "duration = 60\n",
    "\n",
    "ROWS = [ \"Topic\" , 'Payload']\n",
    "with open(CSV_FILE_NAME, 'w', newline='') as csvfile:\n",
    "     writer = csv.writer(csvfile)\n",
    "     writer.writerows(ROWS)\n",
    "    \n",
    "def on_connect(self,client, userdata, rc):\n",
    "    print(\"MQTT Connected.\")\n",
    "    self.subscribe(MQTT_TOPIC)\n",
    "    # add more subscribe ...\n",
    "    # e.g.;\n",
    "    # self.subscribe(\"CPE_DEMO_HOUSE/room2/#\")\n",
    "\n",
    "def on_message(client, userdata, msg):\n",
    "    global start_time\n",
    "    elapsed_time = time.time() - start_time\n",
    "    \n",
    "    if elapsed_time < duration:\n",
    "        print(\"message received...\")\n",
    "        topic = msg.topic\n",
    "        payload = msg.payload.decode(\"utf-8\", \"strict\")\n",
    "        print(msg.topic + \" \"+ str(msg.qos) + \" \" + str(msg.payload.decode(\"utf-8\",\"strict\")))\n",
    "    \n",
    "        with open(CSV_FILE_NAME, 'a', newline='') as csvfile:\n",
    "            writer = csv.writer(csvfile)\n",
    "            writer.writerow([topic, payload])\n",
    "    else:\n",
    "        print(\"Time limit reached. Disconnecting...\")\n",
    "        client.disconnect()\n",
    "        \n",
    "client = mqtt.Client()\n",
    "client.on_connect = on_connect\n",
    "client.on_message = on_message\n",
    "client.connect(MQTT_HOST)\n",
    "\n",
    "# Start the loop\n",
    "client.loop_start()\n",
    "\n",
    "# Run for 1 minute\n",
    "time.sleep(duration)\n",
    "\n",
    "# Stop the loop and disconnect\n",
    "client.loop_stop()\n",
    "client.disconnect()"
   ]
  }
 ],
 "metadata": {
  "kernelspec": {
   "display_name": "Python 3.10.2 64-bit",
   "language": "python",
   "name": "python3"
  },
  "language_info": {
   "codemirror_mode": {
    "name": "ipython",
    "version": 3
   },
   "file_extension": ".py",
   "mimetype": "text/x-python",
   "name": "python",
   "nbconvert_exporter": "python",
   "pygments_lexer": "ipython3",
   "version": "3.11.9"
  },
  "orig_nbformat": 4,
  "vscode": {
   "interpreter": {
    "hash": "aee8b7b246df8f9039afb4144a1f6fd8d2ca17a180786b69acc140d282b71a49"
   }
  }
 },
 "nbformat": 4,
 "nbformat_minor": 2
}
