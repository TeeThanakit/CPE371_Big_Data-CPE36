{
 "cells": [
  {
   "attachments": {},
   "cell_type": "markdown",
   "metadata": {},
   "source": [
    "# Publisher\n",
    "**Run this for being a Publisher**   \n",
    "Publish data to **topic: \"CPE_DEMO_HOUSE/room1\"**   \n",
    "\n",
    "MQTT uses a TCP/IP connection  \n",
    "This connection is normally left open by the client so that is can send and recieive data at any time  \n",
    "\n",
    "if no data flows over an open connection fo a certain **time period** then the client will generate a **PINGREQ** and expect to receive a **PINGRESP** from the broker  \n",
    "This message exchange confirms that the connection is open and working   \n",
    "This **time period** is called **keep alive period**"
   ]
  },
  {
   "cell_type": "code",
   "execution_count": 3,
   "metadata": {},
   "outputs": [
    {
     "name": "stdout",
     "output_type": "stream",
     "text": [
      "Requirement already satisfied: paho-mqtt in c:\\users\\tee\\appdata\\local\\packages\\pythonsoftwarefoundation.python.3.11_qbz5n2kfra8p0\\localcache\\local-packages\\python311\\site-packages (2.1.0)Note: you may need to restart the kernel to use updated packages.\n"
     ]
    },
    {
     "name": "stderr",
     "output_type": "stream",
     "text": [
      "\n",
      "[notice] A new release of pip is available: 24.0 -> 24.2\n",
      "[notice] To update, run: C:\\Users\\Tee\\AppData\\Local\\Microsoft\\WindowsApps\\PythonSoftwareFoundation.Python.3.11_qbz5n2kfra8p0\\python.exe -m pip install --upgrade pip\n"
     ]
    },
    {
     "name": "stdout",
     "output_type": "stream",
     "text": [
      "\n"
     ]
    }
   ],
   "source": [
    "%pip install paho-mqtt"
   ]
  },
  {
   "cell_type": "code",
   "execution_count": 9,
   "metadata": {},
   "outputs": [],
   "source": [
    "import paho.mqtt.client as mqtt\n",
    "MQTT_HOST = \"broker.mqttdashboard.com\"\n",
    "MQTT_PORT = 1883\n",
    "#MQTT_HOST = \"mqtt-dashboard.com\"\n",
    "#MQTT_PORT = 8884\n",
    "MQTT_KEEPALIVE_INTERVAL = 60 #60 seconds\n",
    "MQTT_TOPIC = \"CPE_DEMO_HOUSE/room1\"\n",
    "\n",
    "def on_publish(self,client,userdata):\n",
    "    print(\"Message Published...\")\n",
    "\n",
    "\n",
    "client = mqtt.Client()\n",
    "client.on_publish = on_publish\n",
    "client.connect(MQTT_HOST,MQTT_PORT,MQTT_KEEPALIVE_INTERVAL)\n"
   ]
  },
  {
   "cell_type": "code",
   "execution_count": 10,
   "metadata": {},
   "outputs": [],
   "source": [
    "MQTT_MSG = \"Hello World!\"\n",
    "client.publish(MQTT_TOPIC,MQTT_MSG,qos=0,retain=True)"
   ]
  },
  {
   "cell_type": "markdown",
   "metadata": {},
   "source": [
    "Publish as JSON format"
   ]
  },
  {
   "cell_type": "code",
   "execution_count": 11,
   "metadata": {},
   "outputs": [],
   "source": [
    "import json\n",
    "message = { \"Temperature\":35,\n",
    "            \"Humidity\":60,\n",
    "            \"Light\": 138}\n",
    "\n",
    "MQTT_MSG = json.dumps(message)\n",
    "client.publish(MQTT_TOPIC,MQTT_MSG,qos=0,retain=True)"
   ]
  },
  {
   "cell_type": "code",
   "execution_count": null,
   "metadata": {},
   "outputs": [],
   "source": []
  },
  {
   "cell_type": "code",
   "execution_count": null,
   "metadata": {},
   "outputs": [],
   "source": []
  },
  {
   "cell_type": "markdown",
   "metadata": {},
   "source": [
    "----"
   ]
  }
 ],
 "metadata": {
  "kernelspec": {
   "display_name": "Python 3",
   "language": "python",
   "name": "python3"
  },
  "language_info": {
   "codemirror_mode": {
    "name": "ipython",
    "version": 3
   },
   "file_extension": ".py",
   "mimetype": "text/x-python",
   "name": "python",
   "nbconvert_exporter": "python",
   "pygments_lexer": "ipython3",
   "version": "3.11.9"
  },
  "orig_nbformat": 4,
  "polyglot_notebook": {
   "kernelInfo": {
    "defaultKernelName": "csharp",
    "items": [
     {
      "aliases": [],
      "name": "csharp"
     }
    ]
   }
  }
 },
 "nbformat": 4,
 "nbformat_minor": 2
}
